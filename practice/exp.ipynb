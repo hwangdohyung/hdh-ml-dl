{
 "cells": [
  {
   "cell_type": "markdown",
   "metadata": {},
   "source": [
    "**라이브러리 import** "
   ]
  },
  {
   "cell_type": "code",
   "execution_count": 2,
   "metadata": {},
   "outputs": [],
   "source": [
    "from time import time\n",
    "from sklearn.model_selection import train_test_split\n",
    "import pandas as pd\n",
    "import numpy as np \n",
    "from sklearn.model_selection import RandomizedSearchCV\n",
    "from sklearn.model_selection import StratifiedKFold\n",
    "from sklearn.metrics import accuracy_score\n",
    "from catboost import CatBoostClassifier\n",
    "from sklearn.preprocessing import LabelEncoder\n",
    "from tqdm import tqdm_notebook"
   ]
  },
  {
   "cell_type": "markdown",
   "metadata": {},
   "source": [
    "**데이터 경로 설정 및 pandas로 불러오기**"
   ]
  },
  {
   "cell_type": "code",
   "execution_count": null,
   "metadata": {},
   "outputs": [],
   "source": [
    "path = './_data\\dacon_travle/' \n",
    "train_set = pd.read_csv(path + 'train.csv',index_col=0)\n",
    "test_set = pd.read_csv(path + 'test.csv', index_col=0)"
   ]
  },
  {
   "cell_type": "markdown",
   "metadata": {},
   "source": [
    "**결측치 처리**\n"
   ]
  },
  {
   "cell_type": "markdown",
   "metadata": {},
   "source": [
    "Typeofcontact -> self Enquiry 로 대체 "
   ]
  },
  {
   "cell_type": "code",
   "execution_count": null,
   "metadata": {},
   "outputs": [],
   "source": [
    "train_set['TypeofContact'].fillna('Self Enquiry', inplace=True)\n",
    "test_set['TypeofContact'].fillna('Self Enquiry', inplace=True)"
   ]
  },
  {
   "cell_type": "markdown",
   "metadata": {},
   "source": [
    "Age 컬럼은 직급에 따라 평균값으로 채워주기"
   ]
  },
  {
   "cell_type": "code",
   "execution_count": null,
   "metadata": {},
   "outputs": [],
   "source": [
    "train_set['Age'].fillna(train_set.groupby('Designation')['Age'].transform('mean'), inplace=True)\n",
    "test_set['Age'].fillna(test_set.groupby('Designation')['Age'].transform('mean'), inplace=True)\n",
    "train_set['Age']=np.round(train_set['Age'],0).astype(int)\n",
    "test_set['Age']=np.round(test_set['Age'],0).astype(int)"
   ]
  },
  {
   "cell_type": "markdown",
   "metadata": {},
   "source": [
    "MonthlyIncome 의 결측치는 직급 컬럼 Designation 과 비교 ,차이를 보여 결측치를 대체"
   ]
  },
  {
   "cell_type": "code",
   "execution_count": null,
   "metadata": {},
   "outputs": [],
   "source": [
    "train_set['MonthlyIncome'].fillna(train_set.groupby('Designation')['MonthlyIncome'].transform('mean'), inplace=True)\n",
    "test_set['MonthlyIncome'].fillna(test_set.groupby('Designation')['MonthlyIncome'].transform('mean'), inplace=True)"
   ]
  },
  {
   "cell_type": "markdown",
   "metadata": {},
   "source": [
    "NumberOfChildrenVisiting 컬럼은 결혼 여부에 따라 MaritalStatus 컬럼의 평균값으로 대체 NumberOfFollowups 컬럼은 평균값에 편차가 큰 컬럼의 평균값으로 대체"
   ]
  },
  {
   "cell_type": "code",
   "execution_count": null,
   "metadata": {},
   "outputs": [],
   "source": [
    "train_set['NumberOfChildrenVisiting'].fillna(train_set.groupby('MaritalStatus')['NumberOfChildrenVisiting'].transform('mean'), inplace=True)\n",
    "test_set['NumberOfChildrenVisiting'].fillna(test_set.groupby('MaritalStatus')['NumberOfChildrenVisiting'].transform('mean'), inplace=True)\n",
    "train_set['NumberOfFollowups'].fillna(train_set.groupby('NumberOfChildrenVisiting')['NumberOfFollowups'].transform('mean'), inplace=True)\n",
    "test_set['NumberOfFollowups'].fillna(test_set.groupby('NumberOfChildrenVisiting')['NumberOfFollowups'].transform('mean'), inplace=True)"
   ]
  },
  {
   "cell_type": "markdown",
   "metadata": {},
   "source": [
    "DurationOfPitch 컬럼 '0'으로 대체"
   ]
  },
  {
   "cell_type": "code",
   "execution_count": null,
   "metadata": {},
   "outputs": [],
   "source": [
    "train_set['DurationOfPitch']=train_set['DurationOfPitch'].fillna(0)\n",
    "test_set['DurationOfPitch']=test_set['DurationOfPitch'].fillna(0)\n"
   ]
  },
  {
   "cell_type": "markdown",
   "metadata": {},
   "source": [
    "PreferredPropertyStar 컬럼은 Occupation컬럼 평균값으로 대체 "
   ]
  },
  {
   "cell_type": "code",
   "execution_count": null,
   "metadata": {},
   "outputs": [],
   "source": [
    "train_set['PreferredPropertyStar'].fillna(train_set.groupby('Occupation')['PreferredPropertyStar'].transform('mean'), inplace=True)\n",
    "test_set['PreferredPropertyStar'].fillna(test_set.groupby('Occupation')['PreferredPropertyStar'].transform('mean'), inplace=True)"
   ]
  },
  {
   "cell_type": "markdown",
   "metadata": {},
   "source": [
    "연속형 수치데이터인 Age 컬럼 범주화"
   ]
  },
  {
   "cell_type": "code",
   "execution_count": null,
   "metadata": {},
   "outputs": [],
   "source": [
    "combine = [train_set,test_set]\n",
    "for dataset in combine:    \n",
    "    dataset.loc[ dataset['Age'] <= 20, 'Age'] = 0\n",
    "    dataset.loc[(dataset['Age'] > 20) & (dataset['Age'] <= 29), 'Age'] = 1\n",
    "    dataset.loc[(dataset['Age'] > 29) & (dataset['Age'] <= 39), 'Age'] = 2\n",
    "    dataset.loc[(dataset['Age'] > 39) & (dataset['Age'] <= 49), 'Age'] = 3\n",
    "    dataset.loc[(dataset['Age'] > 49) & (dataset['Age'] <= 59), 'Age'] = 4\n",
    "    dataset.loc[ dataset['Age'] > 59, 'Age'] = 5\n"
   ]
  },
  {
   "cell_type": "markdown",
   "metadata": {},
   "source": [
    "NumberOfTrips의 결측치는 DurationOfPitch의 평균으로 대체"
   ]
  },
  {
   "cell_type": "code",
   "execution_count": null,
   "metadata": {},
   "outputs": [],
   "source": [
    "train_set['NumberOfTrips'].fillna(train_set.groupby('DurationOfPitch')['NumberOfTrips'].transform('mean'), inplace=True)\n",
    "test_set['NumberOfTrips'].fillna(test_set.groupby('DurationOfPitch')['NumberOfTrips'].transform('mean'), inplace=True)"
   ]
  },
  {
   "cell_type": "markdown",
   "metadata": {},
   "source": [
    "Occupation의 Free Lancer는 이상치로서 최빈값인 Salaried로 대체"
   ]
  },
  {
   "cell_type": "code",
   "execution_count": null,
   "metadata": {},
   "outputs": [],
   "source": [
    "train_set.loc[ train_set['Occupation'] =='Free Lancer' , 'Occupation'] = 'Salaried'\n",
    "test_set.loc[ test_set['Occupation'] =='Free Lancer' , 'Occupation'] = 'Salaried'"
   ]
  },
  {
   "cell_type": "markdown",
   "metadata": {},
   "source": [
    "Fe male 컬럼을 Female로 결합 "
   ]
  },
  {
   "cell_type": "code",
   "execution_count": null,
   "metadata": {},
   "outputs": [],
   "source": [
    "train_set.loc[ train_set['Gender'] =='Fe Male' , 'Gender'] = 'Female'\n",
    "test_set.loc[ test_set['Gender'] =='Fe Male' , 'Gender'] = 'Female'"
   ]
  },
  {
   "cell_type": "markdown",
   "metadata": {},
   "source": [
    "컬럼 정리, 라벨링"
   ]
  },
  {
   "cell_type": "code",
   "execution_count": null,
   "metadata": {},
   "outputs": [],
   "source": [
    "cols = ['TypeofContact','Occupation','Gender','ProductPitched','MaritalStatus','Designation']\n",
    "\n",
    "\n",
    "for col in tqdm_notebook(cols):\n",
    "    le = LabelEncoder()\n",
    "    train_set[col]=le.fit_transform(train_set[col])\n",
    "    test_set[col]=le.fit_transform(test_set[col])\n"
   ]
  },
  {
   "cell_type": "markdown",
   "metadata": {},
   "source": [
    "상관관계 낮은 컬럼들 drop 및 (train,test) 분리 , x,y 값 정의"
   ]
  },
  {
   "cell_type": "code",
   "execution_count": null,
   "metadata": {},
   "outputs": [],
   "source": [
    "x = train_set.drop(['ProdTaken',\n",
    "                          'NumberOfChildrenVisiting',\n",
    "                          'NumberOfPersonVisiting',\n",
    "                          'OwnCar', \n",
    "                          'MonthlyIncome', \n",
    "                          'NumberOfFollowups',\n",
    "\n",
    "                          ], axis=1)\n",
    "\n",
    "test_set = test_set.drop(['NumberOfChildrenVisiting',\n",
    "                          'NumberOfPersonVisiting',\n",
    "                          'OwnCar', \n",
    "                          'MonthlyIncome', \n",
    "                          'NumberOfFollowups',\n",
    "                        #\n",
    "                          ], axis=1)\n",
    "y = train_set['ProdTaken']\n",
    "\n",
    "x_train,x_test,y_train,y_test = train_test_split(x,y,train_size=0.91,shuffle=True,random_state=1234,stratify=y)"
   ]
  },
  {
   "cell_type": "markdown",
   "metadata": {},
   "source": [
    "교차검증 - StratifiedKFold\n",
    "모델 - CatBoostClassifier\n",
    "파라미터 튜닝 - RandomizedSearchCV 을 통해 성능이 가장 좋은 파라미터 설정"
   ]
  },
  {
   "cell_type": "code",
   "execution_count": null,
   "metadata": {},
   "outputs": [],
   "source": [
    "n_splits = 6\n",
    "\n",
    "kfold = StratifiedKFold(n_splits=n_splits,shuffle=True,random_state=123)\n",
    "\n",
    "cat_paramets = {\"learning_rate\" : [0.01],\n",
    "                'depth' : [8],\n",
    "                'od_pval' : [0.12673190617341812],\n",
    "                'fold_permutation_block': [142],\n",
    "                'l2_leaf_reg' :[0.33021257848638497]}\n",
    "cat = CatBoostClassifier(random_state=72,verbose=False,n_estimators=1304)\n",
    "model = RandomizedSearchCV(cat,cat_paramets,cv=kfold,n_jobs=-1,)\n",
    "\n",
    "import time \n",
    "start_time = time.time()\n",
    "model.fit(x_train,y_train)   \n",
    "end_time = time.time()-start_time \n",
    "y_predict = model.predict(x_test)\n",
    "results = accuracy_score(y_test,y_predict)\n",
    "\n",
    "model.fit(x,y)\n",
    "y_submmit = model.predict(test_set)\n",
    "y_submmit = np.round(y_submmit,0)\n",
    "submission = pd.read_csv(path + 'sample_submission.csv',\n",
    "                      )\n",
    "submission['ProdTaken'] = y_submmit\n",
    "\n",
    "submission.to_csv('test100.csv',index=False)\n",
    "\n",
    "import pickle\n",
    "path = '.\\_save\\_xg/'\n",
    "pickle.dump(model, open(path + 'm39_pickle1_save', 'wb')) \n"
   ]
  }
 ],
 "metadata": {
  "kernelspec": {
   "display_name": "Python 3.9.7 ('tf282gpu')",
   "language": "python",
   "name": "python3"
  },
  "language_info": {
   "codemirror_mode": {
    "name": "ipython",
    "version": 3
   },
   "file_extension": ".py",
   "mimetype": "text/x-python",
   "name": "python",
   "nbconvert_exporter": "python",
   "pygments_lexer": "ipython3",
   "version": "3.9.7"
  },
  "orig_nbformat": 4,
  "vscode": {
   "interpreter": {
    "hash": "5570794a6996fd16973774885d80e05bcf29b3031717e7c09f26aa6ac97c6540"
   }
  }
 },
 "nbformat": 4,
 "nbformat_minor": 2
}

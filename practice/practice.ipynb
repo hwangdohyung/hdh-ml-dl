{
 "cells": [
  {
   "cell_type": "code",
   "execution_count": 6,
   "metadata": {},
   "outputs": [
    {
     "name": "stdout",
     "output_type": "stream",
     "text": [
      "tf.Tensor(1, shape=(), dtype=int32)\n",
      "tf.Tensor(0, shape=(), dtype=int32)\n"
     ]
    }
   ],
   "source": [
    "import numpy as np \n",
    "import tensorflow as tf\n",
    "t0 = tf.constant(1)\n",
    "print(t0)\n",
    "print(tf.rank(t0))"
   ]
  },
  {
   "cell_type": "code",
   "execution_count": 7,
   "metadata": {},
   "outputs": [
    {
     "name": "stdout",
     "output_type": "stream",
     "text": [
      "tf.Tensor([1 2 3], shape=(3,), dtype=int32)\n",
      "tf.Tensor(1, shape=(), dtype=int32)\n"
     ]
    }
   ],
   "source": [
    "t1 = tf.constant([1,2,3])\n",
    "print(t1)\n",
    "print(tf.rank(t1))"
   ]
  },
  {
   "cell_type": "code",
   "execution_count": 8,
   "metadata": {},
   "outputs": [
    {
     "name": "stdout",
     "output_type": "stream",
     "text": [
      "tf.Tensor(\n",
      "[[1 2 3]\n",
      " [1 2 3]\n",
      " [1 2 3]], shape=(3, 3), dtype=int32)\n",
      "tf.Tensor(2, shape=(), dtype=int32)\n"
     ]
    }
   ],
   "source": [
    "t2 = tf.constant([[1,2,3,],\n",
    "                  [4,5,6],\n",
    "                  [7,8,9]])\n",
    "print(t2)\n",
    "print(tf.rank(t2))"
   ]
  },
  {
   "cell_type": "code",
   "execution_count": 9,
   "metadata": {},
   "outputs": [
    {
     "name": "stdout",
     "output_type": "stream",
     "text": [
      "tf.Tensor(\n",
      "[[[1 2 3]\n",
      "  [4 5 6]\n",
      "  [7 8 9]]\n",
      "\n",
      " [[1 2 3]\n",
      "  [4 5 6]\n",
      "  [7 8 9]]\n",
      "\n",
      " [[1 2 3]\n",
      "  [4 5 6]\n",
      "  [7 8 9]]], shape=(3, 3, 3), dtype=int32)\n",
      "tf.Tensor(3, shape=(), dtype=int32)\n"
     ]
    }
   ],
   "source": [
    "t3 = tf.constant([[[1,2,3],[4,5,6],[7,8,9]],\n",
    "                 [[1,2,3],[4,5,6],[7,8,9]],\n",
    "                 [[1,2,3],[4,5,6],[7,8,9]]])\n",
    "print(t3)\n",
    "print(tf.rank(t3))"
   ]
  },
  {
   "cell_type": "code",
   "execution_count": 11,
   "metadata": {},
   "outputs": [
    {
     "name": "stdout",
     "output_type": "stream",
     "text": [
      "tf.Tensor(\n",
      "[[[[1 2 3]\n",
      "   [4 5 6]\n",
      "   [7 8 9]]\n",
      "\n",
      "  [[1 2 3]\n",
      "   [4 5 6]\n",
      "   [7 8 9]]\n",
      "\n",
      "  [[1 2 3]\n",
      "   [4 5 6]\n",
      "   [7 8 9]]]\n",
      "\n",
      "\n",
      " [[[1 2 3]\n",
      "   [4 5 6]\n",
      "   [7 8 9]]\n",
      "\n",
      "  [[1 2 3]\n",
      "   [4 5 6]\n",
      "   [7 8 9]]\n",
      "\n",
      "  [[1 2 3]\n",
      "   [4 5 6]\n",
      "   [7 8 9]]]\n",
      "\n",
      "\n",
      " [[[1 2 3]\n",
      "   [4 5 6]\n",
      "   [7 8 9]]\n",
      "\n",
      "  [[1 2 3]\n",
      "   [4 5 6]\n",
      "   [7 8 9]]\n",
      "\n",
      "  [[1 2 3]\n",
      "   [4 5 6]\n",
      "   [7 8 9]]]], shape=(3, 3, 3, 3), dtype=int32)\n",
      "tf.Tensor(4, shape=(), dtype=int32)\n"
     ]
    }
   ],
   "source": [
    "t4 = tf.constant([[[[1,2,3],[4,5,6],[7,8,9]],\n",
    "                 [[1,2,3],[4,5,6],[7,8,9]],\n",
    "                 [[1,2,3],[4,5,6],[7,8,9]]],\n",
    "                  \n",
    "                 [[[1,2,3],[4,5,6],[7,8,9]],\n",
    "                 [[1,2,3],[4,5,6],[7,8,9]],\n",
    "                 [[1,2,3],[4,5,6],[7,8,9]]],\n",
    "                 \n",
    "                 [[[1,2,3],[4,5,6],[7,8,9]],\n",
    "                 [[1,2,3],[4,5,6],[7,8,9]],\n",
    "                 [[1,2,3],[4,5,6],[7,8,9]]]])\n",
    "print(t4)\n",
    "print(tf.rank(t4))"
   ]
  },
  {
   "cell_type": "code",
   "execution_count": 18,
   "metadata": {},
   "outputs": [
    {
     "name": "stdout",
     "output_type": "stream",
     "text": [
      "tf.Tensor(2, shape=(), dtype=int32)\n",
      "tf.Tensor(2.0, shape=(), dtype=float32)\n",
      "tf.Tensor(b'hdh', shape=(), dtype=string)\n",
      "tf.Tensor(2.0, shape=(), dtype=float16)\n",
      "tf.Tensor(2, shape=(), dtype=int8)\n",
      "tf.Tensor(2.0, shape=(), dtype=float32)\n",
      "tf.Tensor(2, shape=(), dtype=int32)\n"
     ]
    }
   ],
   "source": [
    "i = tf.constant(2)\n",
    "print(i)\n",
    "f = tf.constant(2.)\n",
    "print(f)\n",
    "s = tf.constant('hdh')\n",
    "print(s)\n",
    "f16 = tf.constant(2.,dtype=tf.float16)\n",
    "print(f16)\n",
    "i8 = tf.constant(2, dtype=tf.int8)\n",
    "print(i8)\n",
    "f32 = tf.cast(f16, tf.float32)\n",
    "print(f32)\n",
    "i32 = tf.cast(i8, tf.int32)\n",
    "print(i32)"
   ]
  },
  {
   "cell_type": "code",
   "execution_count": 35,
   "metadata": {},
   "outputs": [
    {
     "name": "stdout",
     "output_type": "stream",
     "text": [
      "Model: \"model\"\n",
      "__________________________________________________________________________________________________\n",
      "Layer (type)                    Output Shape         Param #     Connected to                     \n",
      "==================================================================================================\n",
      "input_1 (InputLayer)            [(None, 23, 23)]     0                                            \n",
      "__________________________________________________________________________________________________\n",
      "dense_1 (Dense)                 (None, 23, 100)      2400        input_1[0][0]                    \n",
      "__________________________________________________________________________________________________\n",
      "dense_2 (Dense)                 (None, 23, 50)       5050        dense_1[0][0]                    \n",
      "__________________________________________________________________________________________________\n",
      "dense_3 (Dense)                 (None, 23, 30)       1530        dense_2[0][0]                    \n",
      "__________________________________________________________________________________________________\n",
      "concatenate (Concatenate)       (None, 23, 53)       0           input_1[0][0]                    \n",
      "                                                                 dense_3[0][0]                    \n",
      "__________________________________________________________________________________________________\n",
      "dense_4 (Dense)                 (None, 23, 1)        54          concatenate[0][0]                \n",
      "==================================================================================================\n",
      "Total params: 9,034\n",
      "Trainable params: 9,034\n",
      "Non-trainable params: 0\n",
      "__________________________________________________________________________________________________\n"
     ]
    }
   ],
   "source": [
    "from tensorflow.python.keras.layers import Dense,Activation,Flatten,Input\n",
    "from tensorflow.python.keras.models import Model\n",
    "from tensorflow.python.keras.layers import Concatenate\n",
    "input_layer = Input(shape= (23,23))\n",
    "hidden1 = Dense(100, activation= 'relu')(input_layer)\n",
    "hidden2 = Dense(50, activation='relu')(hidden1)\n",
    "hidden3 = Dense(30, activation='relu')(hidden2)\n",
    "concat = Concatenate()([input_layer, hidden3])\n",
    "output = Dense(1)(concat)\n",
    "model = Model(inputs = [input_layer], outputs = [output])\n",
    "model.summary()"
   ]
  },
  {
   "cell_type": "code",
   "execution_count": null,
   "metadata": {},
   "outputs": [],
   "source": []
  }
 ],
 "metadata": {
  "kernelspec": {
   "display_name": "Python 3.9.7 ('tf282gpu')",
   "language": "python",
   "name": "python3"
  },
  "language_info": {
   "codemirror_mode": {
    "name": "ipython",
    "version": 3
   },
   "file_extension": ".py",
   "mimetype": "text/x-python",
   "name": "python",
   "nbconvert_exporter": "python",
   "pygments_lexer": "ipython3",
   "version": "3.9.7"
  },
  "orig_nbformat": 4,
  "vscode": {
   "interpreter": {
    "hash": "5570794a6996fd16973774885d80e05bcf29b3031717e7c09f26aa6ac97c6540"
   }
  }
 },
 "nbformat": 4,
 "nbformat_minor": 2
}

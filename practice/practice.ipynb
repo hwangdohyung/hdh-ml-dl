{
 "cells": [
  {
   "cell_type": "code",
   "execution_count": 1,
   "metadata": {},
   "outputs": [
    {
     "name": "stdout",
     "output_type": "stream",
     "text": [
      "(416809, 2)\n",
      "                                                 text emotions\n",
      "count                                          416809   416809\n",
      "unique                                         393822        6\n",
      "top     i feel more adventurous willing to take risks      joy\n",
      "freq                                               16   141067\n",
      "====================================\n",
      "emotions\n",
      "joy         141067\n",
      "sadness     121187\n",
      "anger        57317\n",
      "fear         47712\n",
      "love         34554\n",
      "surprise     14972\n",
      "dtype: int64\n"
     ]
    }
   ],
   "source": [
    "#hugging face twitter \n",
    "import numpy as np \n",
    "import pickle\n",
    "import pandas as pd\n",
    "with open(\"D:\\study_data\\emotional/merged_training.pkl\",\"rb\") as fr:\n",
    "    data1 = pickle.load(fr)\n",
    "    \n",
    "print(data1.shape)       # (416809, 2)\n",
    "print(data1.describe())  # unique 6\n",
    "\n",
    "data1.to_csv(\"D:\\study_data\\emotional/data1_twitter.csv\")\n",
    "\n",
    "# text emotional\n",
    "# CrowdFlower가 2016년에 만든 The Emotion in Text 데이터세트는 감정으로 레이블이 지정된 트윗입니다. \n",
    "\n",
    "data2 = pd.read_csv('D:\\study_data\\emotional/data2_text_emotional.csv')\n",
    "print(data2.value_counts('emotions'))\n",
    "\n",
    "#joy         141067\n",
    "# sadness     121187\n",
    "# anger        57317\n",
    "# fear         47712\n",
    "# love         34554\n",
    "# surprise     14972\n",
    "# dtype: int64\n",
    "\n",
    "\n",
    "\n",
    "# twitt emotions\n",
    "# kaggle 13개의 서로 다른 감정 40000 레코드 \n",
    "data3 = pd.read_csv('D:\\study_data\\emotional/data3_tweet_emotions.csv')\n",
    "print(data3.value_counts())\n",
    "\n",
    "\n",
    "# kaggle emotional\n",
    "\n",
    "\n"
   ]
  }
 ],
 "metadata": {
  "kernelspec": {
   "display_name": "Python 3.9.7 ('tf282gpu')",
   "language": "python",
   "name": "python3"
  },
  "language_info": {
   "codemirror_mode": {
    "name": "ipython",
    "version": 3
   },
   "file_extension": ".py",
   "mimetype": "text/x-python",
   "name": "python",
   "nbconvert_exporter": "python",
   "pygments_lexer": "ipython3",
   "version": "3.9.7"
  },
  "orig_nbformat": 4,
  "vscode": {
   "interpreter": {
    "hash": "5570794a6996fd16973774885d80e05bcf29b3031717e7c09f26aa6ac97c6540"
   }
  }
 },
 "nbformat": 4,
 "nbformat_minor": 2
}

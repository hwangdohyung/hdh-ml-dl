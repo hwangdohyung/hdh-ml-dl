{
 "cells": [
  {
   "cell_type": "code",
   "execution_count": 1,
   "metadata": {},
   "outputs": [
    {
     "ename": "ImportError",
     "evalue": "cannot import name 'Draopout' from 'tensorflow.python.keras.layers' (c:\\Users\\AIA\\.conda\\envs\\tf282gpu\\lib\\site-packages\\tensorflow\\python\\keras\\layers\\__init__.py)",
     "output_type": "error",
     "traceback": [
      "\u001b[1;31m---------------------------------------------------------------------------\u001b[0m",
      "\u001b[1;31mImportError\u001b[0m                               Traceback (most recent call last)",
      "\u001b[1;32m~\\AppData\\Local\\Temp/ipykernel_15992/435645768.py\u001b[0m in \u001b[0;36m<module>\u001b[1;34m\u001b[0m\n\u001b[0;32m      2\u001b[0m \u001b[1;32mimport\u001b[0m \u001b[0mnumpy\u001b[0m \u001b[1;32mas\u001b[0m \u001b[0mnp\u001b[0m\u001b[1;33m\u001b[0m\u001b[1;33m\u001b[0m\u001b[0m\n\u001b[0;32m      3\u001b[0m \u001b[1;32mimport\u001b[0m \u001b[0mpandas\u001b[0m \u001b[1;32mas\u001b[0m \u001b[0mpd\u001b[0m\u001b[1;33m\u001b[0m\u001b[1;33m\u001b[0m\u001b[0m\n\u001b[1;32m----> 4\u001b[1;33m \u001b[1;32mfrom\u001b[0m \u001b[0mtensorflow\u001b[0m\u001b[1;33m.\u001b[0m\u001b[0mpython\u001b[0m\u001b[1;33m.\u001b[0m\u001b[0mkeras\u001b[0m\u001b[1;33m.\u001b[0m\u001b[0mlayers\u001b[0m \u001b[1;32mimport\u001b[0m \u001b[0mDense\u001b[0m\u001b[1;33m,\u001b[0m\u001b[0mFlatten\u001b[0m\u001b[1;33m,\u001b[0m\u001b[0mConv2D\u001b[0m\u001b[1;33m,\u001b[0m\u001b[0mDraopout\u001b[0m\u001b[1;33m,\u001b[0m\u001b[0mConv2DTranspose\u001b[0m\u001b[1;33m,\u001b[0m\u001b[0mInput\u001b[0m\u001b[1;33m\u001b[0m\u001b[1;33m\u001b[0m\u001b[0m\n\u001b[0m\u001b[0;32m      5\u001b[0m \u001b[1;32mfrom\u001b[0m \u001b[0mtensorflow\u001b[0m\u001b[1;33m.\u001b[0m\u001b[0mpython\u001b[0m\u001b[1;33m.\u001b[0m\u001b[0mkeras\u001b[0m\u001b[1;33m.\u001b[0m\u001b[0mmodels\u001b[0m \u001b[1;32mimport\u001b[0m \u001b[0mModel\u001b[0m\u001b[1;33m,\u001b[0m\u001b[0mSequential\u001b[0m\u001b[1;33m\u001b[0m\u001b[1;33m\u001b[0m\u001b[0m\n\u001b[0;32m      6\u001b[0m \u001b[1;32mfrom\u001b[0m \u001b[0msklearn\u001b[0m\u001b[1;33m.\u001b[0m\u001b[0mmodel_selection\u001b[0m \u001b[1;32mimport\u001b[0m \u001b[0mtrain_test_split\u001b[0m\u001b[1;33m\u001b[0m\u001b[1;33m\u001b[0m\u001b[0m\n",
      "\u001b[1;31mImportError\u001b[0m: cannot import name 'Draopout' from 'tensorflow.python.keras.layers' (c:\\Users\\AIA\\.conda\\envs\\tf282gpu\\lib\\site-packages\\tensorflow\\python\\keras\\layers\\__init__.py)"
     ]
    }
   ],
   "source": [
    "import tensorflow as tf \n",
    "import numpy as np \n",
    "import pandas as pd\n",
    "from tensorflow.python.keras.layers import Dense,Flatten,Conv2D,Draopout,Conv2DTranspose,Input\n",
    "from tensorflow.python.keras.models import Model,Sequential\n",
    "from sklearn.model_selection import train_test_split \n",
    "from tensorflow.python.keras.callbacks import EarlyStopping,ModelCheckpoint\n",
    "\n",
    "\n",
    "#1.data \n",
    "x = [1,2,3,4,5,6,7,]\n",
    "y = [10,20,40,50,60,70]\n",
    "\n",
    "#2.model\n",
    "model = Sequential()\n",
    "model.add(Dense(30,input_dim=1))\n",
    "model.add(Dense(10,activation='relu'))\n",
    "model.add(Dense(30,activation='relu'))\n",
    "model.add(Dense(1,activation='linear'))\n",
    "\n",
    "#3.compile,fit\n",
    "model.compile(loss='mse',optimizer='adam') \n",
    "model.fit(x,y,epochs=10,verbose=1)\n",
    "\n",
    "#4.evaluate,predict\n",
    "loss = model.evaluate(x,y)\n",
    "result = model.predict(8) \n",
    "print('loss: ' ,loss)\n",
    "print('result: ' , result)\n",
    "\n",
    "\n",
    "\n"
   ]
  }
 ],
 "metadata": {
  "kernelspec": {
   "display_name": "Python 3.9.7 ('tf282gpu')",
   "language": "python",
   "name": "python3"
  },
  "language_info": {
   "codemirror_mode": {
    "name": "ipython",
    "version": 3
   },
   "file_extension": ".py",
   "mimetype": "text/x-python",
   "name": "python",
   "nbconvert_exporter": "python",
   "pygments_lexer": "ipython3",
   "version": "3.9.7"
  },
  "orig_nbformat": 4,
  "vscode": {
   "interpreter": {
    "hash": "5570794a6996fd16973774885d80e05bcf29b3031717e7c09f26aa6ac97c6540"
   }
  }
 },
 "nbformat": 4,
 "nbformat_minor": 2
}
